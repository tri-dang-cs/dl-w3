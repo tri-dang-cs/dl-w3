{
 "cells": [
  {
   "cell_type": "markdown",
   "id": "7e381b67",
   "metadata": {},
   "source": [
    "resources:\n",
    "- https://www.kaggle.com/code/qitvision/a-complete-ml-pipeline-fast-ai\n",
    "- https://www.kaggle.com/code/artgor/simple-eda-and-model-in-pytorch\n",
    "- https://www.kaggle.com/code/shtrausslearning/pytorch-cnn-binary-image-classification\n",
    "- https://www.kaggle.com/code/gomezp/complete-beginner-s-guide-eda-keras-lb-0-93\n",
    "- https://www.kaggle.com/code/akarshu121/cancer-detection-with-cnn-for-beginners"
   ]
  },
  {
   "cell_type": "markdown",
   "id": "d71f56ae",
   "metadata": {},
   "source": [
    "For this week's mini-project, you will participate in this Kaggle competition: Histopathologic Cancer Detection\n",
    "\n",
    "This Kaggle competition is a binary image classification problem where you will identify metastatic cancer in small image patches taken from larger digital pathology scans.\n",
    "\n",
    "The project has 125 total points. The instructions summarize the criteria you will use to guide your submission and review others' submissions. Note: to receive total points for this section, the learner doesn't need to have a top-performing score on the challenge. As a mini-project to complete as a weekly assignment, we don't expect you to iterate over your project until you have a model capable of winning the challenge. The iterative process takes time, so please start early to get better-quality results and reports. The learner needs to show a score that reasonably reflects that they completed the rubric parts of this project. The grades are more based on the quality and depth of the analysis, not just on a better Kaggle score.\n",
    "\n",
    "### You will submit three deliverables: \n",
    "\n",
    "- Deliverable 1 — A Jupyter notebook with a description of the problem/data, exploratory data analysis (EDA) procedure, analysis (model building and training), result, and discussion/conclusion. \n",
    "\n",
    "    - Suppose your work becomes so large that it doesn’t fit into one notebook (or you think it will be less readable by having one large notebook). In that case, you can make several notebooks or scripts in a GitHub repository (as deliverable 3) and submit a report-style notebook or pdf instead. \n",
    "\n",
    "    - If your project doesn’t fit into Jupyter notebook format (E.g., you built an app that uses ML), write your approach as a report and submit it in a pdf form. \n",
    "\n",
    "- Deliverable 2 — A public project GitHub repository with your work (please also include the GitHub repo URL in your notebook/report).\n",
    "\n",
    "- Deliverable 3 — A screenshot of your position on the Kaggle competition leaderboard for your top-performing model.\n",
    "\n",
    "\n",
    "### Review criteria\n",
    "\n",
    "Three of your peers will review each of your three deliverables (Jupyter notebook or pdf report, GitHub repository, and challenge leaderboard screenshot) based on the rubrics for each deliverable.\n",
    "\n",
    "Use the rubrics to guide your project to include all parts for the grade you want to achieve. The project has 125 total points.\n",
    "Peer Review\n",
    "\n",
    "One of the essential components of this project is peer review. This project gives you hands-on experience on Kaggle, a famous platform for data science competitions, working on a project with real-life implications. Through every step of your project, pay attention to your work communicating with your peers. As you review their work, pay attention to how they approached problems and pick up new ideas for your future work. \n",
    "\n",
    "### Instructions: Step 1\n",
    "\n",
    "Brief description of the problem and data (5 pts) \n",
    "\n",
    "Briefly describe the challenge problem and NLP. Describe the size, dimension, structure, etc., of the data. \n",
    "\n",
    "### Instructions: Step 2\n",
    "\n",
    "Exploratory Data Analysis (EDA) — Inspect, Visualize and Clean the Data (15 pts)\n",
    "\n",
    "Show a few visualizations like histograms. Describe any data cleaning procedures. Based on your EDA, what is your plan of analysis? \n",
    "\n",
    "### Instructions: Step 3\n",
    "\n",
    "DModel Architecture (25 pts)\n",
    "\n",
    "escribe your model architecture and reasoning for why you believe that specific architecture would be suitable for this problem. Compare multiple architectures and tune hyperparameters. \n",
    "\n",
    "### Instructions: Step 4\n",
    "\n",
    "Results and Analysis (35 pts) \n",
    "\n",
    "Run hyperparameter tuning, try different architectures for comparison, apply techniques to improve training or performance, and discuss what helped.\n",
    "\n",
    "Includes results with tables and figures. There is an analysis of why or why not something worked well, troubleshooting, and a hyperparameter optimization procedure summary.\n",
    "\n",
    "### Instructions: Step 5\n",
    "\n",
    "Conclusion (15 pts)\n",
    "\n",
    "Discuss and interpret results as well as learnings and takeaways. What did and did not help improve the performance of your models? What improvements could you try in the future?\n",
    "\n",
    "### Instructions: Step 6\n",
    "\n",
    "Produce Deliverables: High-Quality, Organized Jupyter Notebook Report, GitHub Repository, and screenshot of Kaggle leaderboard (35 points)\n",
    "\n",
    "These deliverables serve two purposes- grade for this course and your project portfolio that you can show when you apply for jobs.\n",
    "\n",
    "If you haven’t used GitHub previously, please find a tutorial and get acquainted with it before the project deadline. For the sake of this project, you can use GitHub to showcase your codebase. In the real world, versioning with GitHub is vital for collaboration. Sometimes Jupyter notebooks don’t seem particularly well-suited to versioning with GitHub due to hard-to-read diffs and the like. If you want to use this project as an opportunity to practice versioning with GitHub, consider something like the following: https://www.reviewnb.com\n",
    "."
   ]
  },
  {
   "cell_type": "markdown",
   "id": "f6aeca40",
   "metadata": {},
   "source": [
    "Simple EDA and model in pytorch"
   ]
  },
  {
   "cell_type": "code",
   "execution_count": null,
   "id": "01f5eaea",
   "metadata": {},
   "outputs": [],
   "source": []
  }
 ],
 "metadata": {
  "kernelspec": {
   "display_name": "Python 3 (ipykernel)",
   "language": "python",
   "name": "python3"
  },
  "language_info": {
   "codemirror_mode": {
    "name": "ipython",
    "version": 3
   },
   "file_extension": ".py",
   "mimetype": "text/x-python",
   "name": "python",
   "nbconvert_exporter": "python",
   "pygments_lexer": "ipython3",
   "version": "3.9.12"
  }
 },
 "nbformat": 4,
 "nbformat_minor": 5
}
